{
 "cells": [
  {
   "cell_type": "markdown",
   "id": "65bc9e0c",
   "metadata": {},
   "source": [
    "# Overfitting and Regularization in Deep Learning\n",
    "\n",
    "---\n",
    "\n",
    "## 1. What is Overfitting?\n",
    "\n",
    "- Overfitting happens when a model **memorizes the training data** instead of learning to generalize.\n",
    "- The model performs well on training data but **fails to predict well on unseen (test/validation) data**.\n",
    "- It usually occurs when the model is **too complex** or trained **too long** on limited data.\n",
    "\n",
    "### 📈 Visual Intuition\n",
    "\n",
    "| Model Type | Training Accuracy | Test Accuracy | Behavior         |\n",
    "|------------|-------------------|---------------|------------------|\n",
    "| Underfit   | Low               | Low           | Too simple       |\n",
    "| Good Fit   | High              | High          | Generalizes well |\n",
    "| Overfit    | Very High         | Low           | Memorizes data   |\n",
    "\n",
    "---\n",
    "\n",
    "## 2. How to Detect Overfitting\n",
    "\n",
    "### 📉 Typical Symptoms:\n",
    "- High training accuracy, but low validation/test accuracy.\n",
    "- The gap between training and validation loss **widens over epochs**.\n",
    "\n",
    "---\n",
    "\n",
    "## 3. Causes of Overfitting\n",
    "\n",
    "- Too complex model (many layers/parameters).\n",
    "- Too few training samples.\n",
    "- Training for too many epochs.\n",
    "- Noisy or high-variance data.\n",
    "- Lack of regularization techniques.\n"
   ]
  },
  {
   "cell_type": "markdown",
   "id": "232a5f59",
   "metadata": {},
   "source": []
  },
  {
   "cell_type": "markdown",
   "id": "9b8c4df9",
   "metadata": {},
   "source": [
    "# ✅ Techniques to Fix Overfitting\n",
    "\n",
    "---\n",
    "\n",
    "## 1. Regularization\n",
    "\n",
    "Regularization adds a **penalty** to the loss function to discourage overly complex models with large weights. This helps reduce overfitting by controlling the capacity of the model.\n",
    "\n",
    "### 🔹 L2 Regularization (Ridge)\n",
    "\n",
    "- Adds a penalty proportional to the **square of the weights**.\n",
    "- The modified loss function becomes:\n",
    "\n",
    "$$\n",
    "L' = L + \\lambda \\sum w_i^2\n",
    "$$\n",
    "\n",
    "Where:\n",
    "- $L$ is the original loss (e.g., MSE or cross-entropy),\n",
    "- $\\lambda$ is the regularization strength (a small positive value),\n",
    "- $w_i$ are the model’s weights.\n",
    "\n",
    "- This technique **shrinks weights**, pushing them closer to zero but rarely exactly zero.\n",
    "- Encourages simpler models by discouraging large weight values.\n",
    "\n",
    "### 🔹 L1 Regularization (Lasso)\n",
    "\n",
    "- Adds a penalty proportional to the **absolute value of weights**:\n",
    "\n",
    "$$\n",
    "L' = L + \\lambda \\sum |w_i|\n",
    "$$\n",
    "\n",
    "- This technique encourages **sparsity** — i.e., many weights become exactly zero.\n",
    "- As a result, it effectively performs **feature selection** during training.\n",
    "\n",
    "✅ **Use regularization when your model has too many parameters or is highly flexible** (e.g., deep networks or wide layers).\n",
    "\n",
    "---\n",
    "\n",
    "## 2. Dropout\n",
    "\n",
    "Dropout is a regularization technique where **a fraction of neurons is randomly deactivated (set to zero)** during training on each forward pass.\n",
    "\n",
    "- This prevents neurons from relying too heavily on specific other neurons — a behavior known as **co-adaptation**.\n",
    "- It makes the network **more robust**, forcing it to learn redundant representations.\n",
    "- During testing or inference, all neurons are used, but their outputs are scaled accordingly to account for the dropout during training.\n",
    "\n",
    "✅ **Especially effective in fully connected (dense) layers of deep neural networks**.\n",
    "\n",
    "---\n",
    "\n",
    "## 3. Early Stopping\n",
    "\n",
    "Early stopping involves monitoring the **validation loss** during training and **stopping the process when the validation loss stops improving** (starts increasing).\n",
    "\n",
    "- Overfitting usually occurs after the training loss continues to decrease while validation loss begins to rise.\n",
    "- By halting training at the point where the model starts overfitting, you save both time and computational resources.\n",
    "\n",
    "✅ **Highly useful when validation performance is tracked during training**.\n",
    "\n",
    "---\n",
    "\n",
    "## 4. Data Augmentation\n",
    "\n",
    "Data augmentation increases the **size and diversity** of the training dataset by applying various transformations or alterations to the original data.\n",
    "\n",
    "- In **images**, common techniques include:\n",
    "  - Rotation, flipping, scaling, cropping\n",
    "  - Color jittering, brightness adjustment, and adding noise\n",
    "\n",
    "- In **text**, common augmentation strategies include:\n",
    "  - Synonym replacement\n",
    "  - Back translation\n",
    "  - Random deletion or swapping of words\n",
    "\n",
    "- In **audio**, examples include:\n",
    "  - Adding background noise\n",
    "  - Time stretching or pitch shifting\n",
    "\n",
    "✅ **Essential when you have a small or imbalanced dataset** to help the model generalize better.\n",
    "\n",
    "---\n",
    "\n",
    "## 5. Simplify the Model\n",
    "\n",
    "Overfitting often results from using models that are **too complex** relative to the size and complexity of the training data.\n",
    "\n",
    "Ways to simplify the model:\n",
    "- Use **fewer hidden layers** or **fewer neurons per layer**\n",
    "- Reduce **model depth or width**\n",
    "- Remove **unnecessary features** from input\n",
    "\n",
    "✅ **Simplifying the model reduces its ability to memorize noise**, which helps it generalize better.\n",
    "\n",
    "---\n",
    "\n",
    "## 6. More Training Data\n",
    "\n",
    "A fundamental and highly effective way to reduce overfitting is to **increase the size of the training dataset**.\n",
    "\n",
    "- More data helps the model **learn the true distribution** instead of memorizing specific samples.\n",
    "- Useful strategies to increase data:\n",
    "  - **Collect more real-world samples**\n",
    "  - **Use transfer learning** (pre-trained models)\n",
    "  - **Use synthetic data** generated via data augmentation or generative models\n",
    "\n",
    "✅ **More data = less chance of memorization = better generalization**.\n",
    "\n",
    "---\n"
   ]
  },
  {
   "cell_type": "markdown",
   "id": "53dddd4e",
   "metadata": {},
   "source": []
  },
  {
   "cell_type": "code",
   "execution_count": null,
   "id": "f963432d",
   "metadata": {},
   "outputs": [
    {
     "name": "stdout",
     "output_type": "stream",
     "text": [
      "Epoch0 loss = 4.7472381591796875\n",
      "Epoch10 loss = 0.8462001085281372\n",
      "Epoch20 loss = 0.6443585753440857\n",
      "Epoch30 loss = 0.46476253867149353\n",
      "Epoch40 loss = 0.5425889492034912\n",
      "Epoch50 loss = 0.4575318992137909\n",
      "Epoch60 loss = 0.4068964123725891\n",
      "Epoch70 loss = 0.27127644419670105\n",
      "Epoch80 loss = 0.3323725163936615\n",
      "Epoch90 loss = 0.30267736315727234\n"
     ]
    }
   ],
   "source": [
    "import torch \n",
    "import torch.nn as nn\n",
    "import torch.optim as optim\n",
    "\n",
    "from torch.utils.data import DataLoader, Dataset\n",
    "import numpy as np\n",
    "import pandas as pd\n",
    "\n",
    "\n",
    "# Define the neural network\n",
    "class NeuralNetwork(nn.Module):\n",
    "    def __init__(self):\n",
    "        super().__init__()\n",
    "        self.fc1 = nn.Linear(2, 3)\n",
    "        self.fc2 = nn.Linear(3,1)\n",
    "        \n",
    "        \n",
    "        # Activation function\n",
    "        self.relu = nn.ReLU()\n",
    "        self.sigmoid = nn.Sigmoid()\n",
    "        \n",
    "        \n",
    "        \n",
    "    def forward(self, x):\n",
    "        x = self.fc1(x)\n",
    "        x = self.relu(x)\n",
    "        x = self.fc2(x)\n",
    "        x = self.sigmoid(x)\n",
    "        return x\n",
    "    \n",
    "    \n",
    "model = NeuralNetwork()\n",
    "loss_function = nn.BCELoss()\n",
    "optimizer = optim.Adam(model.parameters(), lr=0.01)\n",
    "\n",
    "\n",
    "        \n",
    "data = pd.read_csv('data.csv')     \n",
    "\n",
    "X = data[['age_in_years', 'income(1000$)']].values\n",
    "Y_true = data['purchase'].values.reshape(-1, 1)   # .reshape -> numpy .view(-1, 1)\n",
    "\n",
    "\n",
    "class CustomDataset(Dataset):\n",
    "    def __init__(self, X, Y_true):\n",
    "        self.X = X\n",
    "        self.Y_true = Y_true\n",
    "\n",
    "    def __len__(self):\n",
    "        return len(self.X)\n",
    "\n",
    "    def __getitem__(self, index):\n",
    "        return torch.tensor(self.X[index], dtype=torch.float32), torch.tensor(self.Y_true[index], dtype=torch.float32)\n",
    "\n",
    "\n",
    "batch_size = 32\n",
    "data = CustomDataset(X, Y_true)\n",
    "dataloader = DataLoader(data, batch_size=batch_size, shuffle=True)\n",
    "\n",
    "\n",
    "losses = []\n",
    "\n",
    "num_epochs = 100\n",
    "\n",
    "# model.train()\n",
    "\n",
    "for epoch in range(num_epochs):\n",
    "    for batch_x, batch_y in dataloader:\n",
    "        y_pred = model(batch_x) #Forward pass\n",
    "        \n",
    "        loss = loss_function(y_pred, batch_y) # Calculate loss\n",
    "        \n",
    "        optimizer.zero_grad() # clear gradient\n",
    "        loss.backward() # backward pass: compute gradient dl/dw\n",
    "        optimizer.step() # weight update\n",
    "        \n",
    "        losses.append(loss.item())\n",
    "        \n",
    "    if epoch % 10 == 0:\n",
    "        print(f\"Epoch{epoch} loss = {loss.item()}\")\n",
    "        \n",
    "        \n",
    "        \n",
    "\n",
    "        \n",
    "        \n",
    "        \n",
    "\n",
    "\n",
    "\n"
   ]
  },
  {
   "cell_type": "code",
   "execution_count": null,
   "id": "fffdb3f9",
   "metadata": {},
   "outputs": [],
   "source": []
  },
  {
   "cell_type": "code",
   "execution_count": 13,
   "id": "71cb9a19",
   "metadata": {},
   "outputs": [
    {
     "name": "stdout",
     "output_type": "stream",
     "text": [
      "Test output:tensor([0.1937])\n"
     ]
    }
   ],
   "source": [
    "# Testing the model\n",
    "with torch.no_grad():\n",
    "    test_input =torch.tensor([28, 4], dtype=torch.float32)\n",
    "    test_output = model(test_input)\n",
    "    \n",
    "    print(f\"Test output:{test_output}\")"
   ]
  },
  {
   "cell_type": "code",
   "execution_count": 15,
   "id": "5870b46e",
   "metadata": {},
   "outputs": [
    {
     "name": "stdout",
     "output_type": "stream",
     "text": [
      "Collecting matplotlib\n",
      "  Using cached matplotlib-3.10.3-cp312-cp312-win_amd64.whl.metadata (11 kB)\n",
      "Collecting contourpy>=1.0.1 (from matplotlib)\n",
      "  Using cached contourpy-1.3.2-cp312-cp312-win_amd64.whl.metadata (5.5 kB)\n",
      "Collecting cycler>=0.10 (from matplotlib)\n",
      "  Using cached cycler-0.12.1-py3-none-any.whl.metadata (3.8 kB)\n",
      "Collecting fonttools>=4.22.0 (from matplotlib)\n",
      "  Downloading fonttools-4.58.5-cp312-cp312-win_amd64.whl.metadata (109 kB)\n",
      "Collecting kiwisolver>=1.3.1 (from matplotlib)\n",
      "  Using cached kiwisolver-1.4.8-cp312-cp312-win_amd64.whl.metadata (6.3 kB)\n",
      "Requirement already satisfied: numpy>=1.23 in c:\\users\\baral\\appdata\\local\\programs\\python\\python312\\lib\\site-packages (from matplotlib) (1.26.4)\n",
      "Requirement already satisfied: packaging>=20.0 in c:\\users\\baral\\appdata\\local\\programs\\python\\python312\\lib\\site-packages (from matplotlib) (24.2)\n",
      "Requirement already satisfied: pillow>=8 in c:\\users\\baral\\appdata\\local\\programs\\python\\python312\\lib\\site-packages (from matplotlib) (11.0.0)\n",
      "Collecting pyparsing>=2.3.1 (from matplotlib)\n",
      "  Using cached pyparsing-3.2.3-py3-none-any.whl.metadata (5.0 kB)\n",
      "Requirement already satisfied: python-dateutil>=2.7 in c:\\users\\baral\\appdata\\local\\programs\\python\\python312\\lib\\site-packages (from matplotlib) (2.9.0.post0)\n",
      "Requirement already satisfied: six>=1.5 in c:\\users\\baral\\appdata\\local\\programs\\python\\python312\\lib\\site-packages (from python-dateutil>=2.7->matplotlib) (1.17.0)\n",
      "Using cached matplotlib-3.10.3-cp312-cp312-win_amd64.whl (8.1 MB)\n",
      "Using cached contourpy-1.3.2-cp312-cp312-win_amd64.whl (223 kB)\n",
      "Using cached cycler-0.12.1-py3-none-any.whl (8.3 kB)\n",
      "Downloading fonttools-4.58.5-cp312-cp312-win_amd64.whl (2.2 MB)\n",
      "   ---------------------------------------- 0.0/2.2 MB ? eta -:--:--\n",
      "   ------------------------------------- -- 2.1/2.2 MB 10.7 MB/s eta 0:00:01\n",
      "   ---------------------------------------- 2.2/2.2 MB 9.0 MB/s eta 0:00:00\n",
      "Using cached kiwisolver-1.4.8-cp312-cp312-win_amd64.whl (71 kB)\n",
      "Using cached pyparsing-3.2.3-py3-none-any.whl (111 kB)\n",
      "Installing collected packages: pyparsing, kiwisolver, fonttools, cycler, contourpy, matplotlib\n",
      "Successfully installed contourpy-1.3.2 cycler-0.12.1 fonttools-4.58.5 kiwisolver-1.4.8 matplotlib-3.10.3 pyparsing-3.2.3\n"
     ]
    },
    {
     "name": "stderr",
     "output_type": "stream",
     "text": [
      "\n",
      "[notice] A new release of pip is available: 24.2 -> 25.1.1\n",
      "[notice] To update, run: python.exe -m pip install --upgrade pip\n"
     ]
    }
   ],
   "source": [
    "! pip install matplotlib"
   ]
  },
  {
   "cell_type": "code",
   "execution_count": 16,
   "id": "4fb278bb",
   "metadata": {},
   "outputs": [
    {
     "data": {
      "image/png": "[encoded data removed]",
      "text/plain": [
       "<Figure size 640x480 with 1 Axes>"
      ]
     },
     "metadata": {},
     "output_type": "display_data"
    }
   ],
   "source": [
    "import matplotlib.pyplot as plt\n",
    "plt.plot(losses)\n",
    "plt.title(\"Training loss over time\")\n",
    "plt.xlabel(\"Batch iteration\")\n",
    "plt.ylabel(\"loss\")\n",
    "plt.grid(True)\n",
    "plt.show()"
   ]
  },
  {
   "cell_type": "code",
   "execution_count": 3,
   "id": "d36bceee",
   "metadata": {},
   "outputs": [
    {
     "data": {
      "text/plain": [
       "array([1, 2, 3, 4, 5, 6])"
      ]
     },
     "execution_count": 3,
     "metadata": {},
     "output_type": "execute_result"
    }
   ],
   "source": [
    "import numpy as np\n",
    "a = np.array([1,2,3,4,5,6])\n",
    "a"
   ]
  },
  {
   "cell_type": "code",
   "execution_count": 4,
   "id": "13002dbb",
   "metadata": {},
   "outputs": [
    {
     "data": {
      "text/plain": [
       "array([[1, 2, 3],\n",
       "       [4, 5, 6]])"
      ]
     },
     "execution_count": 4,
     "metadata": {},
     "output_type": "execute_result"
    }
   ],
   "source": [
    "a.reshape(2,3)"
   ]
  },
  {
   "cell_type": "code",
   "execution_count": 5,
   "id": "8244fd6f",
   "metadata": {},
   "outputs": [
    {
     "data": {
      "text/plain": [
       "array([[1],\n",
       "       [2],\n",
       "       [3],\n",
       "       [4],\n",
       "       [5],\n",
       "       [6]])"
      ]
     },
     "execution_count": 5,
     "metadata": {},
     "output_type": "execute_result"
    }
   ],
   "source": [
    "a.reshape(-1, 1)"
   ]
  },
  {
   "cell_type": "code",
   "execution_count": 1,
   "id": "ad060edc",
   "metadata": {},
   "outputs": [
    {
     "data": {
      "text/html": [
       "<div>\n",
       "<style scoped>\n",
       "    .dataframe tbody tr th:only-of-type {\n",
       "        vertical-align: middle;\n",
       "    }\n",
       "\n",
       "    .dataframe tbody tr th {\n",
       "        vertical-align: top;\n",
       "    }\n",
       "\n",
       "    .dataframe thead th {\n",
       "        text-align: right;\n",
       "    }\n",
       "</style>\n",
       "<table border=\"1\" class=\"dataframe\">\n",
       "  <thead>\n",
       "    <tr style=\"text-align: right;\">\n",
       "      <th></th>\n",
       "      <th>age_in_years</th>\n",
       "      <th>income(1000$)</th>\n",
       "    </tr>\n",
       "  </thead>\n",
       "  <tbody>\n",
       "    <tr>\n",
       "      <th>0</th>\n",
       "      <td>51</td>\n",
       "      <td>8.75</td>\n",
       "    </tr>\n",
       "    <tr>\n",
       "      <th>1</th>\n",
       "      <td>54</td>\n",
       "      <td>7.62</td>\n",
       "    </tr>\n",
       "    <tr>\n",
       "      <th>2</th>\n",
       "      <td>36</td>\n",
       "      <td>11.09</td>\n",
       "    </tr>\n",
       "    <tr>\n",
       "      <th>3</th>\n",
       "      <td>61</td>\n",
       "      <td>14.27</td>\n",
       "    </tr>\n",
       "    <tr>\n",
       "      <th>4</th>\n",
       "      <td>40</td>\n",
       "      <td>9.36</td>\n",
       "    </tr>\n",
       "    <tr>\n",
       "      <th>...</th>\n",
       "      <td>...</td>\n",
       "      <td>...</td>\n",
       "    </tr>\n",
       "    <tr>\n",
       "      <th>86</th>\n",
       "      <td>32</td>\n",
       "      <td>7.94</td>\n",
       "    </tr>\n",
       "    <tr>\n",
       "      <th>87</th>\n",
       "      <td>26</td>\n",
       "      <td>6.81</td>\n",
       "    </tr>\n",
       "    <tr>\n",
       "      <th>88</th>\n",
       "      <td>58</td>\n",
       "      <td>11.89</td>\n",
       "    </tr>\n",
       "    <tr>\n",
       "      <th>89</th>\n",
       "      <td>49</td>\n",
       "      <td>6.88</td>\n",
       "    </tr>\n",
       "    <tr>\n",
       "      <th>90</th>\n",
       "      <td>36</td>\n",
       "      <td>4.20</td>\n",
       "    </tr>\n",
       "  </tbody>\n",
       "</table>\n",
       "<p>91 rows × 2 columns</p>\n",
       "</div>"
      ],
      "text/plain": [
       "    age_in_years  income(1000$)\n",
       "0             51           8.75\n",
       "1             54           7.62\n",
       "2             36          11.09\n",
       "3             61          14.27\n",
       "4             40           9.36\n",
       "..           ...            ...\n",
       "86            32           7.94\n",
       "87            26           6.81\n",
       "88            58          11.89\n",
       "89            49           6.88\n",
       "90            36           4.20\n",
       "\n",
       "[91 rows x 2 columns]"
      ]
     },
     "execution_count": 1,
     "metadata": {},
     "output_type": "execute_result"
    }
   ],
   "source": [
    "import pandas as pd\n",
    "data = pd.read_csv('data.csv')  \n",
    "data[['age_in_years', 'income(1000$)']]"
   ]
  },
  {
   "cell_type": "code",
   "execution_count": 2,
   "id": "190a3112",
   "metadata": {},
   "outputs": [
    {
     "data": {
      "text/plain": [
       "array([[51.  ,  8.75],\n",
       "       [54.  ,  7.62],\n",
       "       [36.  , 11.09],\n",
       "       [61.  , 14.27],\n",
       "       [40.  ,  9.36],\n",
       "       [56.  ,  7.47],\n",
       "       [63.  , 13.05],\n",
       "       [25.  ,  7.14],\n",
       "       [43.  ,  6.57],\n",
       "       [45.  ,  9.92],\n",
       "       [18.  , 14.55],\n",
       "       [34.  ,  4.89],\n",
       "       [60.  ,  6.29],\n",
       "       [31.  , 10.26],\n",
       "       [28.  , 12.79],\n",
       "       [20.  ,  7.63],\n",
       "       [35.  ,  1.66],\n",
       "       [57.  ,  5.71],\n",
       "       [64.  ,  2.83],\n",
       "       [49.  , 14.14],\n",
       "       [66.  ,  5.56],\n",
       "       [29.  ,  3.55],\n",
       "       [44.  ,  9.41],\n",
       "       [30.  ,  6.12],\n",
       "       [37.  , 12.99],\n",
       "       [58.  ,  1.9 ],\n",
       "       [62.  ,  5.26],\n",
       "       [21.  , 13.14],\n",
       "       [55.  , 14.88],\n",
       "       [48.  , 11.97],\n",
       "       [22.  ,  6.51],\n",
       "       [27.  , 14.66],\n",
       "       [32.  ,  9.92],\n",
       "       [23.  ,  9.4 ],\n",
       "       [38.  ,  2.84],\n",
       "       [39.  ,  1.14],\n",
       "       [50.  , 13.6 ],\n",
       "       [59.  ,  4.58],\n",
       "       [41.  ,  5.77],\n",
       "       [26.  , 11.58],\n",
       "       [33.  , 14.68],\n",
       "       [42.  ,  1.36],\n",
       "       [47.  ,  3.19],\n",
       "       [53.  ,  6.53],\n",
       "       [46.  ,  9.06],\n",
       "       [24.  ,  7.66],\n",
       "       [19.  ,  6.03],\n",
       "       [65.  ,  6.88],\n",
       "       [52.  ,  8.83],\n",
       "       [22.  , 12.45],\n",
       "       [28.  , 10.12],\n",
       "       [36.  ,  8.02],\n",
       "       [44.  , 12.41],\n",
       "       [30.  ,  4.41],\n",
       "       [25.  , 10.69],\n",
       "       [34.  ,  2.5 ],\n",
       "       [55.  ,  3.9 ],\n",
       "       [60.  ,  7.73],\n",
       "       [63.  ,  9.34],\n",
       "       [29.  ,  8.02],\n",
       "       [41.  ,  6.75],\n",
       "       [48.  , 11.45],\n",
       "       [50.  ,  1.01],\n",
       "       [27.  , 13.18],\n",
       "       [35.  ,  7.25],\n",
       "       [39.  , 10.9 ],\n",
       "       [33.  ,  5.56],\n",
       "       [62.  ,  7.  ],\n",
       "       [40.  ,  6.47],\n",
       "       [26.  ,  8.93],\n",
       "       [31.  , 14.08],\n",
       "       [45.  ,  4.55],\n",
       "       [22.  , 11.9 ],\n",
       "       [60.  ,  9.81],\n",
       "       [28.  ,  5.99],\n",
       "       [34.  ,  7.15],\n",
       "       [53.  , 13.54],\n",
       "       [44.  ,  1.95],\n",
       "       [50.  , 10.73],\n",
       "       [55.  ,  6.43],\n",
       "       [37.  ,  3.76],\n",
       "       [29.  , 13.95],\n",
       "       [48.  ,  8.2 ],\n",
       "       [41.  ,  4.48],\n",
       "       [54.  , 14.38],\n",
       "       [23.  , 10.54],\n",
       "       [32.  ,  7.94],\n",
       "       [26.  ,  6.81],\n",
       "       [58.  , 11.89],\n",
       "       [49.  ,  6.88],\n",
       "       [36.  ,  4.2 ]])"
      ]
     },
     "execution_count": 2,
     "metadata": {},
     "output_type": "execute_result"
    }
   ],
   "source": [
    "data[['age_in_years', 'income(1000$)']].values"
   ]
  },
  {
   "cell_type": "markdown",
   "id": "40ed74e7",
   "metadata": {},
   "source": [
    "import "
   ]
  },
  {
   "cell_type": "code",
   "execution_count": 1,
   "id": "c64dc821",
   "metadata": {},
   "outputs": [
    {
     "name": "stdout",
     "output_type": "stream",
     "text": [
      "Collecting torchvision\n",
      "  Downloading torchvision-0.22.1-cp312-cp312-win_amd64.whl.metadata (6.1 kB)\n",
      "Requirement already satisfied: numpy in c:\\users\\baral\\appdata\\local\\programs\\python\\python312\\lib\\site-packages (from torchvision) (1.26.4)\n",
      "Collecting torch==2.7.1 (from torchvision)\n",
      "  Using cached torch-2.7.1-cp312-cp312-win_amd64.whl.metadata (28 kB)\n",
      "Requirement already satisfied: pillow!=8.3.*,>=5.3.0 in c:\\users\\baral\\appdata\\local\\programs\\python\\python312\\lib\\site-packages (from torchvision) (11.0.0)\n",
      "Requirement already satisfied: filelock in c:\\users\\baral\\appdata\\local\\programs\\python\\python312\\lib\\site-packages (from torch==2.7.1->torchvision) (3.16.1)\n",
      "Requirement already satisfied: typing-extensions>=4.10.0 in c:\\users\\baral\\appdata\\local\\programs\\python\\python312\\lib\\site-packages (from torch==2.7.1->torchvision) (4.12.2)\n",
      "Collecting sympy>=1.13.3 (from torch==2.7.1->torchvision)\n",
      "  Using cached sympy-1.14.0-py3-none-any.whl.metadata (12 kB)\n",
      "Requirement already satisfied: networkx in c:\\users\\baral\\appdata\\local\\programs\\python\\python312\\lib\\site-packages (from torch==2.7.1->torchvision) (3.4.2)\n",
      "Requirement already satisfied: jinja2 in c:\\users\\baral\\appdata\\local\\programs\\python\\python312\\lib\\site-packages (from torch==2.7.1->torchvision) (3.1.4)\n",
      "Requirement already satisfied: fsspec in c:\\users\\baral\\appdata\\local\\programs\\python\\python312\\lib\\site-packages (from torch==2.7.1->torchvision) (2024.10.0)\n",
      "Requirement already satisfied: setuptools in c:\\users\\baral\\appdata\\local\\programs\\python\\python312\\lib\\site-packages (from torch==2.7.1->torchvision) (75.6.0)\n",
      "Requirement already satisfied: mpmath<1.4,>=1.1.0 in c:\\users\\baral\\appdata\\local\\programs\\python\\python312\\lib\\site-packages (from sympy>=1.13.3->torch==2.7.1->torchvision) (1.3.0)\n",
      "Requirement already satisfied: MarkupSafe>=2.0 in c:\\users\\baral\\appdata\\local\\programs\\python\\python312\\lib\\site-packages (from jinja2->torch==2.7.1->torchvision) (3.0.2)\n",
      "Downloading torchvision-0.22.1-cp312-cp312-win_amd64.whl (1.7 MB)\n",
      "   ---------------------------------------- 0.0/1.7 MB ? eta -:--:--\n",
      "   ------------------------ --------------- 1.0/1.7 MB 10.1 MB/s eta 0:00:01\n",
      "   ---------------------------------------- 1.7/1.7 MB 11.6 MB/s eta 0:00:00\n",
      "Using cached torch-2.7.1-cp312-cp312-win_amd64.whl (216.1 MB)\n",
      "Using cached sympy-1.14.0-py3-none-any.whl (6.3 MB)\n",
      "Installing collected packages: sympy, torch, torchvision\n",
      "  Attempting uninstall: sympy\n",
      "    Found existing installation: sympy 1.13.1\n",
      "    Uninstalling sympy-1.13.1:\n",
      "      Successfully uninstalled sympy-1.13.1\n",
      "  Attempting uninstall: torch\n",
      "    Found existing installation: torch 2.5.1\n",
      "    Uninstalling torch-2.5.1:\n",
      "      Successfully uninstalled torch-2.5.1\n",
      "Successfully installed sympy-1.14.0 torch-2.7.1 torchvision-0.22.1\n"
     ]
    },
    {
     "name": "stderr",
     "output_type": "stream",
     "text": [
      "  WARNING: Failed to remove contents in a temporary directory 'C:\\Users\\baral\\AppData\\Local\\Programs\\Python\\Python312\\Lib\\site-packages\\~orch'.\n",
      "  You can safely remove it manually.\n",
      "ERROR: pip's dependency resolver does not currently take into account all the packages that are installed. This behaviour is the source of the following dependency conflicts.\n",
      "torchaudio 2.5.1 requires torch==2.5.1, but you have torch 2.7.1 which is incompatible.\n",
      "\n",
      "[notice] A new release of pip is available: 24.2 -> 25.1.1\n",
      "[notice] To update, run: python.exe -m pip install --upgrade pip\n"
     ]
    }
   ],
   "source": [
    "! pip install torchvision"
   ]
  },
  {
   "cell_type": "code",
   "execution_count": null,
   "id": "c3660df7",
   "metadata": {},
   "outputs": [
    {
     "name": "stdout",
     "output_type": "stream",
     "text": [
      "Requirement already satisfied: torchvision in c:\\users\\baral\\appdata\\local\\programs\\python\\python312\\lib\\site-packages (0.22.1)\n",
      "Requirement already satisfied: numpy in c:\\users\\baral\\appdata\\local\\programs\\python\\python312\\lib\\site-packages (from torchvision) (1.26.4)\n",
      "Requirement already satisfied: torch==2.7.1 in c:\\users\\baral\\appdata\\local\\programs\\python\\python312\\lib\\site-packages (from torchvision) (2.7.1)\n",
      "Requirement already satisfied: pillow!=8.3.*,>=5.3.0 in c:\\users\\baral\\appdata\\local\\programs\\python\\python312\\lib\\site-packages (from torchvision) (11.0.0)\n",
      "Requirement already satisfied: filelock in c:\\users\\baral\\appdata\\local\\programs\\python\\python312\\lib\\site-packages (from torch==2.7.1->torchvision) (3.16.1)\n",
      "Requirement already satisfied: typing-extensions>=4.10.0 in c:\\users\\baral\\appdata\\local\\programs\\python\\python312\\lib\\site-packages (from torch==2.7.1->torchvision) (4.12.2)\n",
      "Requirement already satisfied: sympy>=1.13.3 in c:\\users\\baral\\appdata\\local\\programs\\python\\python312\\lib\\site-packages (from torch==2.7.1->torchvision) (1.14.0)\n",
      "Requirement already satisfied: networkx in c:\\users\\baral\\appdata\\local\\programs\\python\\python312\\lib\\site-packages (from torch==2.7.1->torchvision) (3.4.2)\n",
      "Requirement already satisfied: jinja2 in c:\\users\\baral\\appdata\\local\\programs\\python\\python312\\lib\\site-packages (from torch==2.7.1->torchvision) (3.1.4)\n",
      "Requirement already satisfied: fsspec in c:\\users\\baral\\appdata\\local\\programs\\python\\python312\\lib\\site-packages (from torch==2.7.1->torchvision) (2024.10.0)\n",
      "Requirement already satisfied: setuptools in c:\\users\\baral\\appdata\\local\\programs\\python\\python312\\lib\\site-packages (from torch==2.7.1->torchvision) (75.6.0)\n",
      "Requirement already satisfied: mpmath<1.4,>=1.1.0 in c:\\users\\baral\\appdata\\local\\programs\\python\\python312\\lib\\site-packages (from sympy>=1.13.3->torch==2.7.1->torchvision) (1.3.0)\n",
      "Requirement already satisfied: MarkupSafe>=2.0 in c:\\users\\baral\\appdata\\local\\programs\\python\\python312\\lib\\site-packages (from jinja2->torch==2.7.1->torchvision) (3.0.2)\n"
     ]
    },
    {
     "name": "stderr",
     "output_type": "stream",
     "text": [
      "\n",
      "[notice] A new release of pip is available: 24.2 -> 25.1.1\n",
      "[notice] To update, run: python.exe -m pip install --upgrade pip\n"
     ]
    }
   ],
   "source": [
    "! pip install torchvision torch numpy pillow"
   ]
  },
  {
   "cell_type": "code",
   "execution_count": null,
   "id": "be35ad78",
   "metadata": {},
   "outputs": [],
   "source": []
  },
  {
   "cell_type": "markdown",
   "id": "c7f95a6d",
   "metadata": {},
   "source": []
  },
  {
   "cell_type": "markdown",
   "id": "015271bd",
   "metadata": {},
   "source": []
  },
  {
   "cell_type": "code",
   "execution_count": null,
   "id": "a180529f",
   "metadata": {},
   "outputs": [],
   "source": []
  }
 ],
 "metadata": {
  "kernelspec": {
   "display_name": "Python 3",
   "language": "python",
   "name": "python3"
  },
  "language_info": {
   "codemirror_mode": {
    "name": "ipython",
    "version": 3
   },
   "file_extension": ".py",
   "mimetype": "text/x-python",
   "name": "python",
   "nbconvert_exporter": "python",
   "pygments_lexer": "ipython3",
   "version": "3.12.7"
  }
 },
 "nbformat": 4,
 "nbformat_minor": 5
}
