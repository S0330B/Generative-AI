{
 "cells": [
  {
   "cell_type": "markdown",
   "id": "e0bf4aea",
   "metadata": {},
   "source": [
    "### Neural Network with three input neurons and one hidden neurons"
   ]
  },
  {
   "cell_type": "code",
   "execution_count": null,
   "id": "f96b4ab5",
   "metadata": {},
   "outputs": [
    {
     "name": "stdout",
     "output_type": "stream",
     "text": [
      "[[4.1]]\n"
     ]
    }
   ],
   "source": [
    "import numpy as np\n",
    "\n",
    "input = np.array([[1.5], [2], [3.0]])\n",
    "\n",
    "weight_hidden = np.array([[0.2, 0.3, 0.4]])\n",
    "\n",
    "bias_hidden = np.array([[2]])\n",
    "\n",
    "hidden_outputs = np.dot(weight_hidden, input) + bias_hidden\n",
    "\n",
    "\n",
    "\n",
    "def relu(x):\n",
    "    return np.maximum(0, x)\n",
    "\n",
    "\n",
    "\n",
    "output = relu(hidden_outputs)\n",
    "print(output)\n"
   ]
  },
  {
   "cell_type": "markdown",
   "id": "252f9533",
   "metadata": {},
   "source": [
    "### Neural Network with three input neurons and two hidden neurons"
   ]
  },
  {
   "cell_type": "code",
   "execution_count": null,
   "id": "54e6b5a9",
   "metadata": {},
   "outputs": [
    {
     "name": "stdout",
     "output_type": "stream",
     "text": [
      "[[3.45]\n",
      " [5.25]]\n"
     ]
    }
   ],
   "source": [
    "# Import numpy\n",
    "import numpy as np\n",
    "\n",
    "# Input vector (3 features, single example)\n",
    "input = np.array([[1.5], [2], [3.0]])\n",
    "\n",
    "# Weights for 2 neurons in hidden layer (2 neurons, 3 weights each)\n",
    "weight_hidden = np.array([[0.1, 0.2, 0.3],\n",
    "                          [0.5, -0.6, 0.9]])\n",
    "\n",
    "# Bias for each of the 2 neurons\n",
    "bias_hidden = np.array([[2], \n",
    "                        [3]])\n",
    "\n",
    "# Linear combination: weight * input + bias\n",
    "hidden_outputs = np.dot(weight_hidden, input) + bias_hidden\n",
    "\n",
    "# ReLU activation function\n",
    "def relu(x):\n",
    "    return np.maximum(0, x)\n",
    "\n",
    "# Apply activation\n",
    "output = relu(hidden_outputs)\n",
    "\n",
    "# Print final output\n",
    "print(output)\n"
   ]
  },
  {
   "cell_type": "markdown",
   "id": "66b0dc8b",
   "metadata": {},
   "source": [
    "### TODAY TASK: CREATE NEURAL NETWORK WITH THREE INPUT NEURONS, TWO HIDDEN NEURONS AND ONE OUTPUT NEURON. AND USE RELU ACTIVATION FUNCTION"
   ]
  },
  {
   "cell_type": "markdown",
   "id": "19cce78c",
   "metadata": {},
   "source": []
  },
  {
   "cell_type": "markdown",
   "id": "987df2c7",
   "metadata": {},
   "source": []
  }
 ],
 "metadata": {
  "kernelspec": {
   "display_name": "base",
   "language": "python",
   "name": "python3"
  },
  "language_info": {
   "codemirror_mode": {
    "name": "ipython",
    "version": 3
   },
   "file_extension": ".py",
   "mimetype": "text/x-python",
   "name": "python",
   "nbconvert_exporter": "python",
   "pygments_lexer": "ipython3",
   "version": "3.12.7"
  }
 },
 "nbformat": 4,
 "nbformat_minor": 5
}
