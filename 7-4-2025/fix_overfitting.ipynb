{
 "cells": [
  {
   "cell_type": "code",
   "execution_count": 2,
   "metadata": {},
   "outputs": [
    {
     "name": "stdout",
     "output_type": "stream",
     "text": [
      "Epoch0 loss = 19.961219787597656\n",
      "Epoch10 loss = 1.0506309270858765\n",
      "Epoch20 loss = 0.6803315281867981\n",
      "Epoch30 loss = 0.5670008063316345\n",
      "Epoch40 loss = 0.6980469822883606\n",
      "Epoch50 loss = 0.6799126863479614\n",
      "Epoch60 loss = 0.6775859594345093\n",
      "Epoch70 loss = 0.6953631043434143\n",
      "Epoch80 loss = 0.6060771942138672\n",
      "Epoch90 loss = 0.64192134141922\n"
     ]
    }
   ],
   "source": [
    "import torch \n",
    "import torch.nn as nn\n",
    "import torch.optim as optim\n",
    "\n",
    "from torch.utils.data import DataLoader, Dataset\n",
    "import numpy as np\n",
    "import pandas as pd\n",
    "\n",
    "\n",
    "# Define the neural network\n",
    "class NeuralNetwork(nn.Module):\n",
    "    def __init__(self):\n",
    "        super().__init__()\n",
    "        self.fc1 = nn.Linear(2, 3)\n",
    "        self.fc2 = nn.Linear(3,1)\n",
    "        \n",
    "        \n",
    "        # Activation function\n",
    "        self.relu = nn.ReLU()\n",
    "        self.sigmoid = nn.Sigmoid()\n",
    "        \n",
    "        \n",
    "        \n",
    "    def forward(self, x):\n",
    "        x = self.fc1(x)\n",
    "        x = self.relu(x)\n",
    "        x = self.fc2(x)\n",
    "        x = self.sigmoid(x)\n",
    "        return x\n",
    "    \n",
    "    \n",
    "model = NeuralNetwork()\n",
    "loss_function = nn.BCELoss()\n",
    "optimizer = optim.Adam(model.parameters(), lr=0.01)\n",
    "\n",
    "\n",
    "        \n",
    "data = pd.read_csv('../1Classes/data.csv')     \n",
    "\n",
    "X = data[['age_in_years', 'income(1000$)']].values\n",
    "Y_true = data['purchase'].values.reshape(-1, 1)   # .reshape -> numpy .view(-1, 1)\n",
    "\n",
    "\n",
    "class CustomDataset(Dataset):\n",
    "    def __init__(self, X, Y_true):\n",
    "        self.X = X\n",
    "        self.Y_true = Y_true\n",
    "\n",
    "    def __len__(self):\n",
    "        return len(self.X)\n",
    "\n",
    "    def __getitem__(self, index):\n",
    "        return torch.tensor(self.X[index], dtype=torch.float32), torch.tensor(self.Y_true[index], dtype=torch.float32)\n",
    "\n",
    "\n",
    "batch_size = 32\n",
    "data = CustomDataset(X, Y_true)\n",
    "dataloader = DataLoader(data, batch_size=batch_size, shuffle=True)\n",
    "\n",
    "\n",
    "losses = []\n",
    "\n",
    "num_epochs = 100\n",
    "\n",
    "# model.train()\n",
    "\n",
    "for epoch in range(num_epochs):\n",
    "    for batch_x, batch_y in dataloader:\n",
    "        y_pred = model(batch_x) #Forward pass\n",
    "        \n",
    "        loss = loss_function(y_pred, batch_y) # Calculate loss\n",
    "        \n",
    "        optimizer.zero_grad() # clear gradient\n",
    "        loss.backward() # backward pass: compute gradient dl/dw\n",
    "        optimizer.step() # weight update\n",
    "        \n",
    "        losses.append(loss.item())\n",
    "        \n",
    "    if epoch % 10 == 0:\n",
    "        print(f\"Epoch{epoch} loss = {loss.item()}\")"
   ]
  },
  {
   "cell_type": "code",
   "execution_count": 3,
   "metadata": {},
   "outputs": [
    {
     "name": "stdout",
     "output_type": "stream",
     "text": [
      "Test output:tensor([0.3840])\n"
     ]
    }
   ],
   "source": [
    "# Testing the model\n",
    "with torch.no_grad():\n",
    "    test_input =torch.tensor([28, 4], dtype=torch.float32)\n",
    "    test_output = model(test_input)\n",
    "    \n",
    "    print(f\"Test output:{test_output}\")"
   ]
  },
  {
   "cell_type": "code",
   "execution_count": 4,
   "metadata": {},
   "outputs": [
    {
     "data": {
      "image/png": "[encoded data removed]",
      "text/plain": [
       "<Figure size 640x480 with 1 Axes>"
      ]
     },
     "metadata": {},
     "output_type": "display_data"
    }
   ],
   "source": [
    "import matplotlib.pyplot as plt\n",
    "plt.plot(losses)\n",
    "plt.title(\"Training loss over time\")\n",
    "plt.xlabel(\"Batch iteration\")\n",
    "plt.ylabel(\"loss\")\n",
    "plt.grid(True)\n",
    "plt.show()"
   ]
  },
  {
   "cell_type": "code",
   "execution_count": 5,
   "metadata": {},
   "outputs": [
    {
     "data": {
      "text/plain": [
       "array([1, 2, 3, 4, 5, 6])"
      ]
     },
     "execution_count": 5,
     "metadata": {},
     "output_type": "execute_result"
    }
   ],
   "source": [
    "import numpy as np\n",
    "a = np.array([1,2,3,4,5,6])\n",
    "a"
   ]
  },
  {
   "cell_type": "code",
   "execution_count": 6,
   "metadata": {},
   "outputs": [
    {
     "data": {
      "text/plain": [
       "array([[1, 2, 3],\n",
       "       [4, 5, 6]])"
      ]
     },
     "execution_count": 6,
     "metadata": {},
     "output_type": "execute_result"
    }
   ],
   "source": [
    "a.reshape(2,3)\n"
   ]
  },
  {
   "cell_type": "code",
   "execution_count": 7,
   "metadata": {},
   "outputs": [
    {
     "data": {
      "text/plain": [
       "array([[1],\n",
       "       [2],\n",
       "       [3],\n",
       "       [4],\n",
       "       [5],\n",
       "       [6]])"
      ]
     },
     "execution_count": 7,
     "metadata": {},
     "output_type": "execute_result"
    }
   ],
   "source": [
    "a.reshape(-1, 1)\n"
   ]
  },
  {
   "cell_type": "code",
   "execution_count": 9,
   "metadata": {},
   "outputs": [
    {
     "data": {
      "text/html": [
       "<div>\n",
       "<style scoped>\n",
       "    .dataframe tbody tr th:only-of-type {\n",
       "        vertical-align: middle;\n",
       "    }\n",
       "\n",
       "    .dataframe tbody tr th {\n",
       "        vertical-align: top;\n",
       "    }\n",
       "\n",
       "    .dataframe thead th {\n",
       "        text-align: right;\n",
       "    }\n",
       "</style>\n",
       "<table border=\"1\" class=\"dataframe\">\n",
       "  <thead>\n",
       "    <tr style=\"text-align: right;\">\n",
       "      <th></th>\n",
       "      <th>age_in_years</th>\n",
       "      <th>income(1000$)</th>\n",
       "    </tr>\n",
       "  </thead>\n",
       "  <tbody>\n",
       "    <tr>\n",
       "      <th>0</th>\n",
       "      <td>51</td>\n",
       "      <td>8.75</td>\n",
       "    </tr>\n",
       "    <tr>\n",
       "      <th>1</th>\n",
       "      <td>54</td>\n",
       "      <td>7.62</td>\n",
       "    </tr>\n",
       "    <tr>\n",
       "      <th>2</th>\n",
       "      <td>36</td>\n",
       "      <td>11.09</td>\n",
       "    </tr>\n",
       "    <tr>\n",
       "      <th>3</th>\n",
       "      <td>61</td>\n",
       "      <td>14.27</td>\n",
       "    </tr>\n",
       "    <tr>\n",
       "      <th>4</th>\n",
       "      <td>40</td>\n",
       "      <td>9.36</td>\n",
       "    </tr>\n",
       "    <tr>\n",
       "      <th>...</th>\n",
       "      <td>...</td>\n",
       "      <td>...</td>\n",
       "    </tr>\n",
       "    <tr>\n",
       "      <th>86</th>\n",
       "      <td>32</td>\n",
       "      <td>7.94</td>\n",
       "    </tr>\n",
       "    <tr>\n",
       "      <th>87</th>\n",
       "      <td>26</td>\n",
       "      <td>6.81</td>\n",
       "    </tr>\n",
       "    <tr>\n",
       "      <th>88</th>\n",
       "      <td>58</td>\n",
       "      <td>11.89</td>\n",
       "    </tr>\n",
       "    <tr>\n",
       "      <th>89</th>\n",
       "      <td>49</td>\n",
       "      <td>6.88</td>\n",
       "    </tr>\n",
       "    <tr>\n",
       "      <th>90</th>\n",
       "      <td>36</td>\n",
       "      <td>4.20</td>\n",
       "    </tr>\n",
       "  </tbody>\n",
       "</table>\n",
       "<p>91 rows × 2 columns</p>\n",
       "</div>"
      ],
      "text/plain": [
       "    age_in_years  income(1000$)\n",
       "0             51           8.75\n",
       "1             54           7.62\n",
       "2             36          11.09\n",
       "3             61          14.27\n",
       "4             40           9.36\n",
       "..           ...            ...\n",
       "86            32           7.94\n",
       "87            26           6.81\n",
       "88            58          11.89\n",
       "89            49           6.88\n",
       "90            36           4.20\n",
       "\n",
       "[91 rows x 2 columns]"
      ]
     },
     "execution_count": 9,
     "metadata": {},
     "output_type": "execute_result"
    }
   ],
   "source": [
    "import pandas as pd\n",
    "data = pd.read_csv('../1Classes/data.csv')      \n",
    "data[['age_in_years', 'income(1000$)']]"
   ]
  },
  {
   "cell_type": "code",
   "execution_count": 10,
   "metadata": {},
   "outputs": [
    {
     "data": {
      "text/plain": [
       "array([[51.  ,  8.75],\n",
       "       [54.  ,  7.62],\n",
       "       [36.  , 11.09],\n",
       "       [61.  , 14.27],\n",
       "       [40.  ,  9.36],\n",
       "       [56.  ,  7.47],\n",
       "       [63.  , 13.05],\n",
       "       [25.  ,  7.14],\n",
       "       [43.  ,  6.57],\n",
       "       [45.  ,  9.92],\n",
       "       [18.  , 14.55],\n",
       "       [34.  ,  4.89],\n",
       "       [60.  ,  6.29],\n",
       "       [31.  , 10.26],\n",
       "       [28.  , 12.79],\n",
       "       [20.  ,  7.63],\n",
       "       [35.  ,  1.66],\n",
       "       [57.  ,  5.71],\n",
       "       [64.  ,  2.83],\n",
       "       [49.  , 14.14],\n",
       "       [66.  ,  5.56],\n",
       "       [29.  ,  3.55],\n",
       "       [44.  ,  9.41],\n",
       "       [30.  ,  6.12],\n",
       "       [37.  , 12.99],\n",
       "       [58.  ,  1.9 ],\n",
       "       [62.  ,  5.26],\n",
       "       [21.  , 13.14],\n",
       "       [55.  , 14.88],\n",
       "       [48.  , 11.97],\n",
       "       [22.  ,  6.51],\n",
       "       [27.  , 14.66],\n",
       "       [32.  ,  9.92],\n",
       "       [23.  ,  9.4 ],\n",
       "       [38.  ,  2.84],\n",
       "       [39.  ,  1.14],\n",
       "       [50.  , 13.6 ],\n",
       "       [59.  ,  4.58],\n",
       "       [41.  ,  5.77],\n",
       "       [26.  , 11.58],\n",
       "       [33.  , 14.68],\n",
       "       [42.  ,  1.36],\n",
       "       [47.  ,  3.19],\n",
       "       [53.  ,  6.53],\n",
       "       [46.  ,  9.06],\n",
       "       [24.  ,  7.66],\n",
       "       [19.  ,  6.03],\n",
       "       [65.  ,  6.88],\n",
       "       [52.  ,  8.83],\n",
       "       [22.  , 12.45],\n",
       "       [28.  , 10.12],\n",
       "       [36.  ,  8.02],\n",
       "       [44.  , 12.41],\n",
       "       [30.  ,  4.41],\n",
       "       [25.  , 10.69],\n",
       "       [34.  ,  2.5 ],\n",
       "       [55.  ,  3.9 ],\n",
       "       [60.  ,  7.73],\n",
       "       [63.  ,  9.34],\n",
       "       [29.  ,  8.02],\n",
       "       [41.  ,  6.75],\n",
       "       [48.  , 11.45],\n",
       "       [50.  ,  1.01],\n",
       "       [27.  , 13.18],\n",
       "       [35.  ,  7.25],\n",
       "       [39.  , 10.9 ],\n",
       "       [33.  ,  5.56],\n",
       "       [62.  ,  7.  ],\n",
       "       [40.  ,  6.47],\n",
       "       [26.  ,  8.93],\n",
       "       [31.  , 14.08],\n",
       "       [45.  ,  4.55],\n",
       "       [22.  , 11.9 ],\n",
       "       [60.  ,  9.81],\n",
       "       [28.  ,  5.99],\n",
       "       [34.  ,  7.15],\n",
       "       [53.  , 13.54],\n",
       "       [44.  ,  1.95],\n",
       "       [50.  , 10.73],\n",
       "       [55.  ,  6.43],\n",
       "       [37.  ,  3.76],\n",
       "       [29.  , 13.95],\n",
       "       [48.  ,  8.2 ],\n",
       "       [41.  ,  4.48],\n",
       "       [54.  , 14.38],\n",
       "       [23.  , 10.54],\n",
       "       [32.  ,  7.94],\n",
       "       [26.  ,  6.81],\n",
       "       [58.  , 11.89],\n",
       "       [49.  ,  6.88],\n",
       "       [36.  ,  4.2 ]])"
      ]
     },
     "execution_count": 10,
     "metadata": {},
     "output_type": "execute_result"
    }
   ],
   "source": [
    "data[['age_in_years', 'income(1000$)']].values\n"
   ]
  },
  {
   "cell_type": "code",
   "execution_count": null,
   "metadata": {},
   "outputs": [],
   "source": []
  }
 ],
 "metadata": {
  "kernelspec": {
   "display_name": "Python 3",
   "language": "python",
   "name": "python3"
  },
  "language_info": {
   "codemirror_mode": {
    "name": "ipython",
    "version": 3
   },
   "file_extension": ".py",
   "mimetype": "text/x-python",
   "name": "python",
   "nbconvert_exporter": "python",
   "pygments_lexer": "ipython3",
   "version": "3.13.1"
  }
 },
 "nbformat": 4,
 "nbformat_minor": 2
}
