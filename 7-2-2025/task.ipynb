{
 "cells": [
  {
   "cell_type": "code",
   "execution_count": 32,
   "metadata": {},
   "outputs": [],
   "source": [
    "import torch"
   ]
  },
  {
   "cell_type": "code",
   "execution_count": 33,
   "metadata": {},
   "outputs": [],
   "source": [
    "inputs = torch.tensor([\n",
    "    [1,2],\n",
    "    [3,4],\n",
    "    [5,6],\n",
    "    [7,8]\n",
    "\n",
    "], dtype=torch.float32)\n"
   ]
  },
  {
   "cell_type": "code",
   "execution_count": 34,
   "metadata": {},
   "outputs": [],
   "source": [
    "y_true=torch.tensor([\n",
    "    [10],\n",
    "    [20],\n",
    "    [30],\n",
    "    [40]\n",
    "], dtype=torch.float32)"
   ]
  },
  {
   "cell_type": "code",
   "execution_count": 35,
   "metadata": {},
   "outputs": [],
   "source": [
    "weights_hidden = torch.rand((2,3),requires_grad=True)\n",
    "bias_hidden = torch.rand((3),requires_grad=True) \n",
    "weights_output =torch.rand((3,1),requires_grad=True)\n",
    "bias_output = torch.rand((1),requires_grad=True)"
   ]
  },
  {
   "cell_type": "code",
   "execution_count": 39,
   "metadata": {},
   "outputs": [
    {
     "data": {
      "text/plain": [
       "tensor([-1.4797, -1.3304, -1.4250], requires_grad=True)"
      ]
     },
     "execution_count": 39,
     "metadata": {},
     "output_type": "execute_result"
    }
   ],
   "source": [
    "bias_hidden"
   ]
  },
  {
   "cell_type": "code",
   "execution_count": 36,
   "metadata": {},
   "outputs": [],
   "source": [
    "epochs = 1000\n",
    "learning_rate = 0.01"
   ]
  },
  {
   "cell_type": "code",
   "execution_count": 37,
   "metadata": {},
   "outputs": [],
   "source": [
    "def relu(x):\n",
    "    return torch.maximum(torch.tensor(0.0),x)"
   ]
  },
  {
   "cell_type": "code",
   "execution_count": 38,
   "metadata": {},
   "outputs": [
    {
     "name": "stdout",
     "output_type": "stream",
     "text": [
      "Epoch 0 loss 565.4887084960938\n",
      "Epoch 100 loss 136.7061767578125\n",
      "Epoch 200 loss 125.20588684082031\n",
      "Epoch 300 loss 125.00361633300781\n",
      "Epoch 400 loss 125.00006103515625\n",
      "Epoch 500 loss 125.0\n",
      "Epoch 600 loss 125.0\n",
      "Epoch 700 loss 125.0\n",
      "Epoch 800 loss 125.0\n",
      "Epoch 900 loss 125.0\n"
     ]
    }
   ],
   "source": [
    "for epoch in range(epochs):\n",
    "    linear_output = inputs @ weights_hidden + bias_hidden\n",
    "    y_pred = relu(linear_output)\n",
    "    final_output = y_pred @ weights_output + bias_output\n",
    "    output = relu(final_output)\n",
    "\n",
    "    loss=torch.mean((output-y_true)**2)\n",
    "    loss.backward()\n",
    "\n",
    "    with torch.no_grad():\n",
    "        weights_hidden -= learning_rate*weights_hidden.grad\n",
    "        weights_output -= learning_rate*weights_output.grad\n",
    "        bias_hidden -= learning_rate*bias_hidden.grad\n",
    "        bias_output -=learning_rate*bias_output.grad\n",
    "\n",
    "        weights_hidden.grad.zero_()\n",
    "        weights_output.grad.zero_()\n",
    "        bias_hidden.grad.zero_()\n",
    "        bias_output.grad.zero_()\n",
    "\n",
    "    if epoch % 100 ==0:\n",
    "        print(f\"Epoch {epoch} loss {loss.item()}\")\n",
    "    "
   ]
  }
 ],
 "metadata": {
  "kernelspec": {
   "display_name": "Python 3",
   "language": "python",
   "name": "python3"
  },
  "language_info": {
   "codemirror_mode": {
    "name": "ipython",
    "version": 3
   },
   "file_extension": ".py",
   "mimetype": "text/x-python",
   "name": "python",
   "nbconvert_exporter": "python",
   "pygments_lexer": "ipython3",
   "version": "3.13.1"
  }
 },
 "nbformat": 4,
 "nbformat_minor": 2
}
