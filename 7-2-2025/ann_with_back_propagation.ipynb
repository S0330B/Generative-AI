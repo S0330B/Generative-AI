{
 "cells": [
  {
   "cell_type": "code",
   "execution_count": 1,
   "metadata": {},
   "outputs": [],
   "source": [
    "import torch"
   ]
  },
  {
   "cell_type": "code",
   "execution_count": 2,
   "metadata": {},
   "outputs": [],
   "source": [
    "inputs = torch.tensor([\n",
    "    [1,2],\n",
    "    [3,4],\n",
    "    [5,6],\n",
    "    [7,8]\n",
    "],\n",
    "    dtype=torch.float32)"
   ]
  },
  {
   "cell_type": "code",
   "execution_count": 3,
   "metadata": {},
   "outputs": [],
   "source": [
    "y_true = torch.tensor([\n",
    "    [10],\n",
    "    [20],\n",
    "    [30],\n",
    "    [40]\n",
    "], dtype=torch.float32)"
   ]
  },
  {
   "cell_type": "code",
   "execution_count": 4,
   "metadata": {},
   "outputs": [],
   "source": [
    "weights = torch.rand((2,1), requires_grad=True)"
   ]
  },
  {
   "cell_type": "code",
   "execution_count": 5,
   "metadata": {},
   "outputs": [],
   "source": [
    "bias = torch.rand((1),requires_grad=True)"
   ]
  },
  {
   "cell_type": "code",
   "execution_count": 6,
   "metadata": {},
   "outputs": [],
   "source": [
    "epochs = 1000"
   ]
  },
  {
   "cell_type": "code",
   "execution_count": 7,
   "metadata": {},
   "outputs": [],
   "source": [
    "learning_rate = 0.01"
   ]
  },
  {
   "cell_type": "code",
   "execution_count": 8,
   "metadata": {},
   "outputs": [],
   "source": [
    "def relu(x):\n",
    "    return torch.maximum(torch.tensor(0.0),x)"
   ]
  },
  {
   "cell_type": "code",
   "execution_count": 9,
   "metadata": {},
   "outputs": [
    {
     "name": "stdout",
     "output_type": "stream",
     "text": [
      "Epoch 0 loss <built-in method item of Tensor object at 0x00000251929FF7F0>\n",
      "Epoch 100 loss <built-in method item of Tensor object at 0x0000025192A1DC70>\n",
      "Epoch 200 loss <built-in method item of Tensor object at 0x0000025192A1DBD0>\n",
      "Epoch 300 loss <built-in method item of Tensor object at 0x0000025192A1D1D0>\n",
      "Epoch 400 loss <built-in method item of Tensor object at 0x0000025192A1DC70>\n",
      "Epoch 500 loss <built-in method item of Tensor object at 0x0000025192A1DBD0>\n",
      "Epoch 600 loss <built-in method item of Tensor object at 0x0000025192A1D2C0>\n",
      "Epoch 700 loss <built-in method item of Tensor object at 0x0000025192A1DC70>\n",
      "Epoch 800 loss <built-in method item of Tensor object at 0x0000025192A1DBD0>\n",
      "Epoch 900 loss <built-in method item of Tensor object at 0x0000025192A1D8B0>\n"
     ]
    }
   ],
   "source": [
    "for epoch in range(epochs):\n",
    "    linear_output = inputs @ weights + bias\n",
    "    y_pred = relu(linear_output)\n",
    "    loss = torch.mean((y_pred-y_true)**2)\n",
    "    loss.backward()\n",
    "\n",
    "    with torch.no_grad():\n",
    "        weights -= learning_rate*weights.grad\n",
    "        bias -= learning_rate*bias.grad\n",
    "        weights.grad.zero_()\n",
    "        bias.grad.zero_()\n",
    "\n",
    "    if epoch % 100 ==0:\n",
    "        print(f\"Epoch {epoch} loss {loss.item}\")"
   ]
  },
  {
   "cell_type": "code",
   "execution_count": 10,
   "metadata": {},
   "outputs": [
    {
     "name": "stdout",
     "output_type": "stream",
     "text": [
      "Epoch 0 loss 685.2586669921875\n",
      "Epoch 100 loss 0.07213477045297623\n",
      "Epoch 200 loss 0.022529534995555878\n",
      "Epoch 300 loss 0.007036756724119186\n",
      "Epoch 400 loss 0.002197754569351673\n",
      "Epoch 500 loss 0.0006864252500236034\n",
      "Epoch 600 loss 0.00021440198179334402\n",
      "Epoch 700 loss 6.697447679471225e-05\n",
      "Epoch 800 loss 2.0913943444611505e-05\n",
      "Epoch 900 loss 6.534790372825228e-06\n"
     ]
    }
   ],
   "source": [
    "import torch # \n",
    "inputs = torch.tensor([\n",
    "    [1,2],\n",
    "    [3,4],\n",
    "    [5,6],\n",
    "    [7,8]\n",
    "    ], dtype=torch.float32)\n",
    "\n",
    "\n",
    "y_true = torch.tensor([\n",
    "    [10],\n",
    "    [20],\n",
    "    [30],\n",
    "    [40]\n",
    "    ], dtype=torch.float32)\n",
    "\n",
    "\n",
    "# Initialize weight and bias\n",
    "\n",
    "weights = torch.rand((2,1), requires_grad=True)\n",
    "bias = torch.rand((1,), requires_grad=True)\n",
    "\n",
    "\n",
    "epochs = 1000\n",
    "learning_rate = 0.01\n",
    "\n",
    "\n",
    "# Activation function\n",
    "def relu(x):\n",
    "    return torch.maximum(torch.tensor(0.0), x)\n",
    "\n",
    "for epoch in range(epochs):\n",
    "    linear_output = inputs @ weights + bias\n",
    "    y_pred = relu(linear_output)\n",
    "    \n",
    "    loss = torch.mean((y_pred - y_true)**2)\n",
    "    \n",
    "    loss.backward()\n",
    "    \n",
    "    with torch.no_grad():\n",
    "        weights -= learning_rate *weights.grad\n",
    "        bias -= learning_rate * bias.grad\n",
    "        \n",
    "    \n",
    "    # zero_grad\n",
    "    weights.grad.zero_()\n",
    "    bias.grad.zero_()\n",
    "    \n",
    "    \n",
    "    if epoch % 100 == 0:\n",
    "        print(f\"Epoch {epoch} loss {loss.item()}\")\n",
    "    \n",
    "    "
   ]
  }
 ],
 "metadata": {
  "kernelspec": {
   "display_name": "Python 3",
   "language": "python",
   "name": "python3"
  },
  "language_info": {
   "codemirror_mode": {
    "name": "ipython",
    "version": 3
   },
   "file_extension": ".py",
   "mimetype": "text/x-python",
   "name": "python",
   "nbconvert_exporter": "python",
   "pygments_lexer": "ipython3",
   "version": "3.13.1"
  }
 },
 "nbformat": 4,
 "nbformat_minor": 2
}
