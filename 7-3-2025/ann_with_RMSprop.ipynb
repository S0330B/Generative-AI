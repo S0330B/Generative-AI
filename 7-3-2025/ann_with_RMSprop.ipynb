{
 "cells": [
  {
   "cell_type": "code",
   "execution_count": 1,
   "metadata": {},
   "outputs": [],
   "source": [
    "import torch \n",
    "import torch.nn as nn\n",
    "import torch.optim as optim"
   ]
  },
  {
   "cell_type": "code",
   "execution_count": 2,
   "metadata": {},
   "outputs": [
    {
     "name": "stdout",
     "output_type": "stream",
     "text": [
      "Epoch: 0: Loss: 0.785063\n",
      "Epoch: 100: Loss: 0.643932\n",
      "Epoch: 200: Loss: 0.630280\n",
      "Epoch: 300: Loss: 0.623614\n",
      "Epoch: 400: Loss: 0.621094\n"
     ]
    }
   ],
   "source": [
    "class NeuralNetwork(nn.Module):\n",
    "    def __init__(self):\n",
    "        super().__init__()\n",
    "        self.fc1=nn.Linear(2,3)\n",
    "        self.fc2=nn.Linear(3,1)\n",
    "        self.relu=nn.ReLU()\n",
    "        self.sigmoid=nn.Sigmoid()\n",
    "\n",
    "    def forward(self,x):\n",
    "        x=self.fc1(x)\n",
    "        x=self.relu(x)\n",
    "        x=self.fc2(x)\n",
    "        x=self.sigmoid(x)\n",
    "        return x\n",
    "\n",
    "model = NeuralNetwork()\n",
    "inputs = torch.randint(1,11,(10,2),dtype=torch.float32)\n",
    "y_true = torch.randint(0,2,(10,1),dtype=torch.float32)\n",
    "\n",
    "loss_function = nn.BCELoss()\n",
    "\n",
    "optimizer = torch.optim.RMSprop(model.parameters(), lr=0.001, alpha=0.9)\n",
    "\n",
    "epochs = 500\n",
    "\n",
    "for epoch in range(epochs):\n",
    "    optimizer.zero_grad()\n",
    "    y_pred = model(inputs)\n",
    "    loss = loss_function(y_pred,y_true)\n",
    "\n",
    "    loss.backward()\n",
    "\n",
    "    optimizer.step()\n",
    "\n",
    "    if epoch % 100 ==0:\n",
    "        print(f\"Epoch: {epoch}: Loss: {loss.item():6f}\")"
   ]
  }
 ],
 "metadata": {
  "kernelspec": {
   "display_name": "Python 3",
   "language": "python",
   "name": "python3"
  },
  "language_info": {
   "codemirror_mode": {
    "name": "ipython",
    "version": 3
   },
   "file_extension": ".py",
   "mimetype": "text/x-python",
   "name": "python",
   "nbconvert_exporter": "python",
   "pygments_lexer": "ipython3",
   "version": "3.13.1"
  }
 },
 "nbformat": 4,
 "nbformat_minor": 2
}
