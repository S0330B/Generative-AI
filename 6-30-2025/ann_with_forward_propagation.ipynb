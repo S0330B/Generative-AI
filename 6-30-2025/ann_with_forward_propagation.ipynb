{
 "cells": [
  {
   "cell_type": "markdown",
   "metadata": {},
   "source": [
    "### Neural Network with three input neurons and one hidden neurons"
   ]
  },
  {
   "cell_type": "code",
   "execution_count": 1,
   "metadata": {},
   "outputs": [
    {
     "name": "stdout",
     "output_type": "stream",
     "text": [
      "[[4.1]]\n"
     ]
    }
   ],
   "source": [
    "\n",
    "import numpy as np # type: ignore\n",
    "\n",
    "input = np.array([[1.5], [2], [3.0]])\n",
    "\n",
    "weight_hidden = np.array([[0.2, 0.3, 0.4]])\n",
    "\n",
    "bias_hidden = np.array([[2]])\n",
    "\n",
    "hidden_outputs = np.dot(weight_hidden, input) + bias_hidden\n",
    "\n",
    "\n",
    "\n",
    "def relu(x):\n",
    "    return np.maximum(0, x)\n",
    "\n",
    "\n",
    "\n",
    "output = relu(hidden_outputs)\n",
    "print(output)"
   ]
  },
  {
   "cell_type": "markdown",
   "metadata": {},
   "source": [
    "### Neural Network with three input neurons and two hidden neurons"
   ]
  },
  {
   "cell_type": "code",
   "execution_count": 2,
   "metadata": {},
   "outputs": [
    {
     "name": "stdout",
     "output_type": "stream",
     "text": [
      "[[3.45]\n",
      " [5.25]]\n"
     ]
    }
   ],
   "source": [
    "\n",
    "\n",
    "# Input vector (3 features, single example)\n",
    "input = np.array([[1.5], [2], [3.0]])\n",
    "\n",
    "# Weights for 2 neurons in hidden layer (2 neurons, 3 weights each)\n",
    "weight_hidden = np.array([[0.1, 0.2, 0.3],\n",
    "                          [0.5, -0.6, 0.9]])\n",
    "\n",
    "# Bias for each of the 2 neurons\n",
    "bias_hidden = np.array([[2], \n",
    "                        [3]])\n",
    "\n",
    "# Linear combination: weight * input + bias\n",
    "hidden_outputs = np.dot(weight_hidden, input) + bias_hidden\n",
    "\n",
    "# ReLU activation function\n",
    "def relu(x):\n",
    "    return np.maximum(0, x)\n",
    "\n",
    "# Apply activation\n",
    "output = relu(hidden_outputs)\n",
    "\n",
    "# Print final output\n",
    "print(output)\n"
   ]
  },
  {
   "cell_type": "markdown",
   "metadata": {},
   "source": [
    "### CREATE NEURAL NETWORK WITH THREE INPUT NEURONS, TWO HIDDEN NEURONS AND ONE OUTPUT NEURON. AND USE RELU ACTIVATION FUNCTION"
   ]
  },
  {
   "cell_type": "code",
   "execution_count": 3,
   "metadata": {},
   "outputs": [
    {
     "name": "stdout",
     "output_type": "stream",
     "text": [
      "[[4106.93]]\n"
     ]
    }
   ],
   "source": [
    "\n",
    "\n",
    "\n",
    "input = np.array([[10000], [2], [3]])\n",
    "\n",
    "\n",
    "weight_hidden = np.array([[0.1, 0.2, 0.3],\n",
    "                          [0.4, -0.6, 0.8]])\n",
    "\n",
    "bias_hidden = np.array([[1], \n",
    "                        [3]])\n",
    "\n",
    "\n",
    "hidden_outputs = np.dot(weight_hidden, input) + bias_hidden\n",
    "\n",
    "def relu(x):\n",
    "    return np.maximum(0, x)\n",
    "\n",
    "hidden_activated = relu(hidden_outputs)\n",
    "\n",
    "weight_output = np.array([[0.5, 0.9]])\n",
    "\n",
    "bias_output = np.array([[2]])\n",
    "\n",
    "output = np.dot(weight_output, hidden_activated) + bias_output\n",
    "\n",
    "final_output = relu(output)\n",
    "\n",
    "print(final_output)\n",
    "\n"
   ]
  }
 ],
 "metadata": {
  "kernelspec": {
   "display_name": "Python 3",
   "language": "python",
   "name": "python3"
  },
  "language_info": {
   "codemirror_mode": {
    "name": "ipython",
    "version": 3
   },
   "file_extension": ".py",
   "mimetype": "text/x-python",
   "name": "python",
   "nbconvert_exporter": "python",
   "pygments_lexer": "ipython3",
   "version": "3.13.1"
  }
 },
 "nbformat": 4,
 "nbformat_minor": 2
}
