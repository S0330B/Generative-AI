{
 "cells": [
  {
   "cell_type": "code",
   "execution_count": 1,
   "metadata": {},
   "outputs": [
    {
     "name": "stdout",
     "output_type": "stream",
     "text": [
      "[[4106.93]]\n"
     ]
    }
   ],
   "source": [
    "import numpy as np\n",
    "\n",
    "input = np.array([[10000], [2], [3]])\n",
    "\n",
    "\n",
    "weight_hidden = np.array([[0.1, 0.2, 0.3],\n",
    "                          [0.4, -0.6, 0.8]])\n",
    "\n",
    "bias_hidden = np.array([[1], \n",
    "                        [3]])\n",
    "\n",
    "\n",
    "hidden_outputs = np.dot(weight_hidden, input) + bias_hidden\n",
    "\n",
    "def relu(x):\n",
    "    return np.maximum(0, x)\n",
    "\n",
    "hidden_activated = relu(hidden_outputs)\n",
    "\n",
    "weight_output = np.array([[0.5, 0.9]])\n",
    "\n",
    "bias_output = np.array([[2]])\n",
    "\n",
    "output = np.dot(weight_output, hidden_activated) + bias_output\n",
    "\n",
    "final_output = relu(output)\n",
    "\n",
    "print(final_output)\n"
   ]
  }
 ],
 "metadata": {
  "kernelspec": {
   "display_name": "Python 3",
   "language": "python",
   "name": "python3"
  },
  "language_info": {
   "codemirror_mode": {
    "name": "ipython",
    "version": 3
   },
   "file_extension": ".py",
   "mimetype": "text/x-python",
   "name": "python",
   "nbconvert_exporter": "python",
   "pygments_lexer": "ipython3",
   "version": "3.13.1"
  }
 },
 "nbformat": 4,
 "nbformat_minor": 2
}
